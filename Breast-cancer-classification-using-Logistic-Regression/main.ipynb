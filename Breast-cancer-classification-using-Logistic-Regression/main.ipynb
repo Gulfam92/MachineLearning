{
 "cells": [
  {
   "cell_type": "code",
   "execution_count": 4,
   "metadata": {},
   "outputs": [],
   "source": [
    "import numpy as np \n",
    "import pandas as pd\n",
    "from sklearn.model_selection import train_test_split\n",
    "from sklearn import preprocessing\n",
    "import matplotlib.pyplot as plt\n",
    "from sklearn.metrics import accuracy_score\n",
    "from sklearn.metrics import classification_report\n",
    "from sklearn.metrics import confusion_matrix"
   ]
  },
  {
   "cell_type": "code",
   "execution_count": 5,
   "metadata": {},
   "outputs": [],
   "source": [
    "#Read the given dataset file and drop the 1st column from the file\n",
    "dataframe = pd.read_csv(\"C:\\\\Users\\\\Gulfam Hussain\\\\Desktop\\\\Gulfam- Course\\\\574-Intro to ML\\\\Project1\\\\wdbc.csv\", header=None)\n",
    "dataframe = dataframe.drop(dataframe.columns[0], axis=1)"
   ]
  },
  {
   "cell_type": "code",
   "execution_count": 6,
   "metadata": {},
   "outputs": [],
   "source": [
    "#Map the values of 1st column to 1 and 0 accordingly\n",
    "ycolumn_values = dataframe[dataframe.columns[0]]\n",
    "ycolumn_values = ycolumn_values.map({'M':1, 'B':0})\n",
    "dataframe[dataframe.columns[0]] = ycolumn_values"
   ]
  },
  {
   "cell_type": "code",
   "execution_count": 7,
   "metadata": {},
   "outputs": [],
   "source": [
    "#Divide and assign the dataset values into X & Y accordingly\n",
    "ycolumn_values = ycolumn_values.to_frame()\n",
    "xcolumn_values = dataframe[dataframe.columns[1:]]"
   ]
  },
  {
   "cell_type": "code",
   "execution_count": 8,
   "metadata": {},
   "outputs": [],
   "source": [
    "#Partition the given dataset values into Training, Validation & Testing to perform the logistic regression\n",
    "xtraining_data, xtesting_data, ytraining_data, ytesting_data = train_test_split(xcolumn_values, ycolumn_values, test_size=0.2, random_state=10)\n",
    "xvalidation_data, xtestingNew, yvalidation_data, ytestingNew = train_test_split(xtesting_data, ytesting_data, test_size=0.5, random_state=10)"
   ]
  },
  {
   "cell_type": "code",
   "execution_count": 9,
   "metadata": {},
   "outputs": [],
   "source": [
    "#Put the Y values in the array format and reshape for logistic regression use\n",
    "YTr = ytraining_data.values\n",
    "YVal = yvalidation_data.values\n",
    "YTest = ytestingNew.values\n",
    "YTr = YTr.reshape(1,YTr.shape[0])\n",
    "YVal = YVal.reshape(1,YVal.shape[0])\n",
    "YTest = YTest.reshape(1,YTest.shape[0])"
   ]
  },
  {
   "cell_type": "code",
   "execution_count": 10,
   "metadata": {},
   "outputs": [],
   "source": [
    "#Normalize the X dataset values so that the values are in the same range while performing the logistic regression\n",
    "XTr_normalize = preprocessing.normalize(xtraining_data, norm=\"l2\")  \n",
    "XVal_normalize = preprocessing.normalize(xvalidation_data, norm=\"l2\")\n",
    "XTest_normalize = preprocessing.normalize(xtestingNew, norm=\"l2\")\n",
    "XTr = XTr_normalize.T\n",
    "XVal = XVal_normalize.T\n",
    "XTe = XTest_normalize.T"
   ]
  },
  {
   "cell_type": "code",
   "execution_count": 30,
   "metadata": {},
   "outputs": [],
   "source": [
    "#Define sigmoid function for logistic regression --Reference taken from the class slide\n",
    "def sigmoid(y):\n",
    "    return(1/(1+np.exp(-y)))\n",
    "\n",
    "#Initialization of the values before calculating the loss fucntion\n",
    "losstraining = []\n",
    "lossval = []\n",
    "m = XTr.shape[1]\n",
    "m1 = XVal.shape[1]\n",
    "b = 0   #bias\n",
    "learningrate = 0.13               #0.13 (Optimal for 92.98% accuracy)\n",
    "w = np.zeros([XTr.shape[0], 1])   #weight vector"
   ]
  },
  {
   "cell_type": "code",
   "execution_count": 31,
   "metadata": {},
   "outputs": [],
   "source": [
    "#Iterate the loss function over range of epochs in order to calculate the weight and bias --Reference taken from the class slide\n",
    "for epoch in range(15000):\n",
    "    z = np.dot(w.T, XTr) + b\n",
    "    z1 = np.dot(w.T, XVal) + b\n",
    "    p = sigmoid(z)  #predicted value\n",
    "    p1 = sigmoid(z1)\n",
    "    cost = -np.sum(np.multiply(np.log(p), YTr) + np.multiply((1-YTr), np.log(1-p)))/m         #training loss\n",
    "    cost1 = -np.sum(np.multiply(np.log(p1), YVal) + np.multiply((1-YVal), np.log(1-p1)))/m1   #validation loss\n",
    "    dz = p - YTr\n",
    "    losstraining.append(np.squeeze(cost))\n",
    "    lossval.append(np.squeeze(cost1))\n",
    "    \n",
    "    dw = (1/m)*np.dot(XTr, dz.T)\n",
    "    db = (1/m)*np.sum(dz)\n",
    "    \n",
    "    w = w - learningrate*dw\n",
    "    b = b - learningrate*db"
   ]
  },
  {
   "cell_type": "code",
   "execution_count": 32,
   "metadata": {},
   "outputs": [
    {
     "data": {
      "text/plain": [
       "<matplotlib.legend.Legend at 0x22f57376be0>"
      ]
     },
     "execution_count": 32,
     "metadata": {},
     "output_type": "execute_result"
    },
    {
     "data": {
      "image/png": "[encoded data removed]",
      "text/plain": [
       "<Figure size 432x288 with 1 Axes>"
      ]
     },
     "metadata": {
      "needs_background": "light"
     },
     "output_type": "display_data"
    }
   ],
   "source": [
    "#Plot the graph of Training Loss and Validation Loss over multiple iterations\n",
    "plt.plot(losstraining, label = 'TrainingLoss')\n",
    "plt.plot(lossval, label = 'ValidationLoss')\n",
    "plt.legend()"
   ]
  },
  {
   "cell_type": "code",
   "execution_count": 33,
   "metadata": {},
   "outputs": [],
   "source": [
    "#Finally calculate the Test value after getting the weight value from multiple iterations on training data\n",
    "Test_Prediction = np.dot(w.T, XTe) + b\n",
    "\n",
    "#Apply sigmoid funtion to normalize the Test dataset values in the range of 0-1.\n",
    "Final_Prediction = sigmoid(Test_Prediction)\n",
    "\n",
    "#Get the final predicted values and categorize them into 0 or 1.\n",
    "Final_Prediction[Final_Prediction>0.5] = 1\n",
    "Final_Prediction[Final_Prediction<0.5] = 0\n",
    "Final_Prediction = Final_Prediction.astype(int)"
   ]
  },
  {
   "cell_type": "code",
   "execution_count": 34,
   "metadata": {},
   "outputs": [],
   "source": [
    "#Calculate Confusion Matrix to predict the Accuracy, Precision & Recall values\n",
    "Matrix_check = confusion_matrix(YTest[0], Final_Prediction[0])\n",
    "\n",
    "TP = Matrix_check[0][0]\n",
    "FP = Matrix_check[0][1]\n",
    "FN = Matrix_check[1][0]\n",
    "TN = Matrix_check[1][1]"
   ]
  },
  {
   "cell_type": "code",
   "execution_count": 35,
   "metadata": {},
   "outputs": [
    {
     "name": "stdout",
     "output_type": "stream",
     "text": [
      "Accuracy  %  :  92.98245614035088\n",
      "Precision %  :  100.0\n",
      "Recall    %  :  90.0\n"
     ]
    }
   ],
   "source": [
    "#Calculate values of Accuracy, Precision & Recall values based on the confusion matrix values\n",
    "Acc_value = (TP+TN)/(TP+TN+FP+FN)\n",
    "Pre_value = TP/(TP+FP)\n",
    "Rec_value = TP/(TP+FN)\n",
    "\n",
    "print(\"Accuracy  %  : \", Acc_value*100)\n",
    "print(\"Precision %  : \", Pre_value*100)\n",
    "print(\"Recall    %  : \", Rec_value*100)"
   ]
  },
  {
   "cell_type": "code",
   "execution_count": null,
   "metadata": {},
   "outputs": [],
   "source": []
  }
 ],
 "metadata": {
  "kernelspec": {
   "display_name": "Python 3",
   "language": "python",
   "name": "python3"
  },
  "language_info": {
   "codemirror_mode": {
    "name": "ipython",
    "version": 3
   },
   "file_extension": ".py",
   "mimetype": "text/x-python",
   "name": "python",
   "nbconvert_exporter": "python",
   "pygments_lexer": "ipython3",
   "version": "3.7.6"
  }
 },
 "nbformat": 4,
 "nbformat_minor": 2
}
